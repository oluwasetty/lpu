{
 "cells": [
  {
   "cell_type": "code",
   "execution_count": 1,
   "id": "ec17eb92",
   "metadata": {},
   "outputs": [
    {
     "name": "stdout",
     "output_type": "stream",
     "text": [
      "\u001b[33mDEPRECATION: Configuring installation scheme with distutils config files is deprecated and will no longer work in the near future. If you are using a Homebrew or Linuxbrew Python, please see discussion at https://github.com/Homebrew/homebrew-core/issues/76621\u001b[0m\n",
      "Requirement already satisfied: scikit-fuzzy in /usr/local/lib/python3.9/site-packages (0.4.2)\n",
      "Requirement already satisfied: networkx>=1.9.0 in /usr/local/lib/python3.9/site-packages (from scikit-fuzzy) (2.6.3)\n",
      "Requirement already satisfied: numpy>=1.6.0 in /usr/local/lib/python3.9/site-packages (from scikit-fuzzy) (1.21.3)\n",
      "Requirement already satisfied: scipy>=0.9.0 in /usr/local/lib/python3.9/site-packages (from scikit-fuzzy) (1.7.2)\n",
      "Note: you may need to restart the kernel to use updated packages.\n"
     ]
    }
   ],
   "source": [
    "pip install scikit-fuzzy"
   ]
  },
  {
   "cell_type": "code",
   "execution_count": 28,
   "id": "94c1ae32",
   "metadata": {},
   "outputs": [],
   "source": [
    "import numpy as np\n",
    "import skfuzzy as fuzz\n",
    "from skfuzzy import control as ctrl\n",
    "import matplotlib.pyplot as plt "
   ]
  },
  {
   "cell_type": "code",
   "execution_count": 29,
   "id": "7aac2bbc",
   "metadata": {},
   "outputs": [
    {
     "data": {
      "image/png": "[encoded data removed]",
      "text/plain": [
       "<Figure size 432x288 with 1 Axes>"
      ]
     },
     "metadata": {
      "needs_background": "light"
     },
     "output_type": "display_data"
    }
   ],
   "source": [
    "x_behind_red_light = np.arange(-4, 17, 1)\n",
    "plt.plot(x_behind_red_light)\n",
    "x_arriving_green_light = np.arange(-4, 17, 1)\n",
    "plt.plot(x_arriving_green_light)\n",
    "x_extension = np.arange(0, 21, 1)\n",
    "plt.plot(x_extension)\n",
    "plt.title('Traffic Control')\n",
    "\n",
    "arriving_green_light_few = fuzz.trimf(x_arriving_green_light, [0, 0, 3])\n",
    "arriving_green_light_small = fuzz.trimf(x_arriving_green_light, [0, 3, 6])\n",
    "arriving_green_light_medium = fuzz.trimf(x_arriving_green_light, [3, 6, 9])\n",
    "arriving_green_light_many = fuzz.trimf(x_arriving_green_light, [6, 9, 12])\n",
    "\n",
    "behind_red_light_few = fuzz.trimf(x_behind_red_light, [0, 0, 3])\n",
    "behind_red_light_small = fuzz.trimf(x_behind_red_light, [0, 3, 6])\n",
    "behind_red_light_medium = fuzz.trimf(x_behind_red_light, [3, 6, 9])\n",
    "behind_red_light_many = fuzz.trimf(x_behind_red_light, [6, 9, 12])\n",
    "\n",
    "extension_zero = fuzz.trimf(x_extension, [0, 0, 0])\n",
    "extension_short = fuzz.trimf(x_extension, [0, 2, 4])\n",
    "extension_medium = fuzz.trimf(x_extension, [2, 4, 6])\n",
    "extension_long = fuzz.trimf(x_extension, [4, 6, 8])"
   ]
  },
  {
   "cell_type": "code",
   "execution_count": 30,
   "id": "43a99adf",
   "metadata": {},
   "outputs": [],
   "source": [
    "def get_extension(arriving_green_light_car, behind_red_light_car, extension_count):\n",
    "        behind_red_light_level_few = fuzz.interp_membership(x_behind_red_light, behind_red_light_few, behind_red_light_car)\n",
    "        behind_red_light_level_small = fuzz.interp_membership(x_behind_red_light, behind_red_light_small, behind_red_light_car)\n",
    "        behind_red_light_level_medium = fuzz.interp_membership(x_behind_red_light, behind_red_light_medium, behind_red_light_car)\n",
    "        behind_red_light_level_many = fuzz.interp_membership(x_behind_red_light, behind_red_light_many, behind_red_light_car)\n",
    "\n",
    "        arriving_green_light_level_few = fuzz.interp_membership(x_arriving_green_light, arriving_green_light_few, arriving_green_light_car)\n",
    "        arriving_green_light_level_small = fuzz.interp_membership(x_arriving_green_light, arriving_green_light_small, arriving_green_light_car)\n",
    "        arriving_green_light_level_medium = fuzz.interp_membership(x_arriving_green_light, arriving_green_light_medium, arriving_green_light_car)\n",
    "        arriving_green_light_level_many = fuzz.interp_membership(x_arriving_green_light, arriving_green_light_many, arriving_green_light_car)\n",
    "\n",
    "        # Rule 1: If Arrival is few then Extension is zero.\n",
    "        # Rule 2: If Arrival is small AND Queue is (few OR small) then Extension is short.\n",
    "        # Rule 3: If Arrival is small AND Queue is (medium OR many) then Extension is zero.\n",
    "        # Rule 4: If Arrival is medium AND Queue is (few OR small) then Extension is medium.\n",
    "        # Rule 5: If Arrival is medium AND Queue is (medium OR many) then Extension is short.\n",
    "        # Rule 6: If Arrival is many AND Queue is few then Extension is long.\n",
    "        # Rule 7: If Arrival is many AND Queue is (small OR medium) then Extension is medium.\n",
    "        # Rule 8: If Arrival is few AND Queue is many then Extension is short.\n",
    "\n",
    "        rule1 = arriving_green_light_level_few\n",
    "        rule2 = np.fmin(arriving_green_light_level_small,\n",
    "                        np.fmax(behind_red_light_level_few, behind_red_light_level_small))\n",
    "        rule3 = np.fmin(arriving_green_light_level_small,\n",
    "                        np.fmax(behind_red_light_level_medium, behind_red_light_level_many))\n",
    "        rule4 = np.fmin(arriving_green_light_level_medium,\n",
    "                        np.fmax(behind_red_light_level_few, behind_red_light_level_small))\n",
    "        rule5 = np.fmin(arriving_green_light_level_medium,\n",
    "                        np.fmax(behind_red_light_level_medium, behind_red_light_level_many))\n",
    "        rule6 = np.fmin(arriving_green_light_level_many, behind_red_light_level_few)\n",
    "        rule7 = np.fmin(arriving_green_light_level_many,\n",
    "                        np.fmax(behind_red_light_level_small, behind_red_light_level_medium))\n",
    "        rule8 = np.fmin(arriving_green_light_level_many, behind_red_light_level_many)\n",
    "\n",
    "        if extension_count == 0:\n",
    "            extension_activation_zero = np.fmin(np.fmax(rule1, rule3), extension_zero)\n",
    "            extension_activation_short = np.fmin(np.fmax(rule2, np.fmax(rule5, rule8)), extension_short)\n",
    "            extension_activation_medium = np.fmin(np.fmax(rule4, rule7), extension_medium)\n",
    "            extension_activation_long = np.fmin(rule6, extension_long)\n",
    "\n",
    "        else:\n",
    "            extension_activation_zero = np.fmin(\n",
    "                np.fmax(rule1, np.fmax(rule2, np.fmax(rule3, np.fmax(rule5, rule8)))), extension_zero)\n",
    "            extension_activation_short = np.fmin(np.fmax(rule4, rule7), extension_short)\n",
    "            extension_activation_medium = np.fmin(rule6, extension_medium)\n",
    "            extension_activation_long = np.fmin(0, extension_long)\n",
    "\n",
    "        aggregated = np.fmax(extension_activation_zero, np.fmax(extension_activation_short,\n",
    "                                                                np.fmax(extension_activation_medium,\n",
    "                                                                        extension_activation_long)))\n",
    "\n",
    "        return fuzz.defuzz(x_extension, aggregated, 'centroid')"
   ]
  },
  {
   "cell_type": "code",
   "execution_count": 33,
   "id": "073c2853",
   "metadata": {},
   "outputs": [
    {
     "data": {
      "text/plain": [
       "2.714285714285715"
      ]
     },
     "execution_count": 33,
     "metadata": {},
     "output_type": "execute_result"
    }
   ],
   "source": [
    "get_extension(7,2,9)"
   ]
  },
  {
   "cell_type": "code",
   "execution_count": null,
   "id": "f4704f18",
   "metadata": {},
   "outputs": [],
   "source": []
  }
 ],
 "metadata": {
  "kernelspec": {
   "display_name": "Python 3 (ipykernel)",
   "language": "python",
   "name": "python3"
  },
  "language_info": {
   "codemirror_mode": {
    "name": "ipython",
    "version": 3
   },
   "file_extension": ".py",
   "mimetype": "text/x-python",
   "name": "python",
   "nbconvert_exporter": "python",
   "pygments_lexer": "ipython3",
   "version": "3.9.7"
  }
 },
 "nbformat": 4,
 "nbformat_minor": 5
}
